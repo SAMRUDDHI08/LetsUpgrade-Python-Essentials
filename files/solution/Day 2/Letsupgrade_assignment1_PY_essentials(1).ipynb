{
 "cells": [
  {
   "cell_type": "markdown",
   "metadata": {},
   "source": [
    "# Question 1 : LIST AND FUNCTIONS"
   ]
  },
  {
   "cell_type": "code",
   "execution_count": 2,
   "metadata": {},
   "outputs": [
    {
     "name": "stdout",
     "output_type": "stream",
     "text": [
      "Added elements in empty list my_list: ['Lets', 30, True]\n",
      "Inserted element at position -2: ['Lets', 'Upgrade', 30, True]\n",
      "Inserted element at position 4: ['Lets', 'Upgrade', 30, True, 8.9]\n",
      "Length of the list: 5\n",
      "8.9\n",
      "Popped element from the list: ['Lets', 'Upgrade', 30, True]\n",
      "Removed element from the list: ['Lets', 'Upgrade', 30]\n",
      "Finding index of element 30 : 2\n",
      "Original list ['Lets', 'Upgrade', 30, False, 'Lets', 30]\n",
      "Reverse of list [30, 'Lets', False, 30, 'Upgrade', 'Lets']\n",
      "Count of element 30 in the list: 2\n",
      "my_list copied in l2: [30, 'Lets', False, 30, 'Upgrade', 'Lets']\n",
      "Sorted list: [0.0002, 0.5, 1, 10, 44]\n",
      "l3 has extended l2: [0.0002, 0.5, 1, 10, 44, 30, 'Lets', False, 30, 'Upgrade', 'Lets']\n",
      "l2 list is cleared: []\n"
     ]
    }
   ],
   "source": [
    "my_list = []\n",
    "my_list.append('Lets')\n",
    "my_list.append(30)\n",
    "my_list.append(True)\n",
    "print(\"Added elements in empty list my_list:\",my_list)\n",
    "my_list.insert(-2,'Upgrade')\n",
    "print(\"Inserted element at position -2:\",my_list)\n",
    "my_list.insert(4,8.9)\n",
    "print(\"Inserted element at position 4:\",my_list)\n",
    "print(\"Length of the list:\",len(my_list))\n",
    "print(my_list.pop())\n",
    "print(\"Popped element from the list:\",my_list)\n",
    "my_list.remove(True)\n",
    "print(\"Removed element from the list:\",my_list)\n",
    "my_list.append(False)\n",
    "my_list.append('Lets')\n",
    "my_list.insert(8,30)\n",
    "print(\"Finding index of element 30 :\",my_list.index(30))\n",
    "print(\"Original list\",my_list)\n",
    "my_list.reverse()\n",
    "print(\"Reverse of list\",my_list)\n",
    "print(\"Count of element 30 in the list:\",my_list.count(30))\n",
    "l2 = my_list.copy()\n",
    "print(\"my_list copied in l2:\",l2)\n",
    "l3 = [10,.5,44,1,.0002]\n",
    "l3.sort()\n",
    "print(\"Sorted list:\",l3)\n",
    "l3.extend(l2)\n",
    "print(\"l3 has extended l2:\",l3)\n",
    "l2.clear()\n",
    "print(\"l2 list is cleared:\",l2)\n"
   ]
  },
  {
   "cell_type": "markdown",
   "metadata": {},
   "source": [
    "# Question 2 : Dictionary and its functions"
   ]
  },
  {
   "cell_type": "code",
   "execution_count": 49,
   "metadata": {
    "scrolled": true
   },
   "outputs": [
    {
     "name": "stdout",
     "output_type": "stream",
     "text": [
      "{'a': 'America', 2: True, 3: 88, True: False}\n",
      "dict_keys(['a', 2, 3, True])\n",
      "dict_values(['America', True, 88, False])\n",
      "dict_items([('a', 'America'), (2, True), (3, 88), (True, False)])\n",
      "True\n",
      "{'a': 'America', 3: 88, True: False, 90: 'APPLE', 2: 'Pineapple'}\n",
      "Pineapple\n",
      "{'a': [1], 'i': [1], 'u': [1], 'e': [1], 'o': [1]}\n",
      "d2 {90: 'APPLE', 2: 'Pineapple'}\n",
      "(2, 'Pineapple')\n",
      "Car Price: None\n",
      "Car Brand: Audi\n"
     ]
    }
   ],
   "source": [
    "d = {}\n",
    "d['a']= 'America'\n",
    "d[2] = True\n",
    "d[3] = 88\n",
    "d[True] = False\n",
    "print(d)\n",
    "print(d.keys())\n",
    "print(d.values())\n",
    "print(d.items())\n",
    "print(d.pop(2))\n",
    "d1 = {90:'APPLE',2:'Pineapple'}\n",
    "d.update(d1)\n",
    "print(d)\n",
    "print(d.get(2))\n",
    "keys = {'a', 'e', 'i', 'o', 'u' }\n",
    "value = [1]\n",
    "vowels = dict.fromkeys(keys, value)\n",
    "print(vowels)\n",
    "d2=d1.copy()\n",
    "print(\"d2\",d2)\n",
    "print(d.popitem())\n",
    "car = {'serialno':'MXA5642',\n",
    "       'carName' : 'Audi A6',\n",
    "       'BrandName':'Audi'\n",
    "      }\n",
    "price = car.setdefault('price')\n",
    "print(\"Car Price:\",price)\n",
    "brand = car.setdefault('BrandName')\n",
    "print(\"Car Brand:\",brand)\n"
   ]
  },
  {
   "cell_type": "markdown",
   "metadata": {},
   "source": [
    "# Question 3 : Set and its Function"
   ]
  },
  {
   "cell_type": "code",
   "execution_count": 81,
   "metadata": {},
   "outputs": [
    {
     "name": "stdout",
     "output_type": "stream",
     "text": [
      "{0.45, 10, 500, 90}\n",
      "s1 is subset of s: False\n",
      "s is supperset of s1: False\n",
      "s1 is supperset of s: False\n",
      "intersection of s and s1: {0.45, 500}\n",
      "union of s and s1: {0.45, 777, 10, 500, 8888, 90}\n",
      "difference of s and s1: {10, 90}\n",
      "difference of s and s1: {8888, 777}\n",
      "s is disjoint of s1: False\n",
      "s2 {0.45, 777, 500, 8888}\n",
      "0.45\n",
      "s2 {777, 500}\n",
      "symmetric_difference of s and s1 {777, 10, 8888, 90}\n",
      "s2 {500}\n",
      "s2 set()\n",
      "{0.45, 777, 10, 500, 8888, 90}\n",
      "s2 {'asia', 'canada'}\n",
      "s3 {'asia', 'south korea', 'canada'}\n",
      "s4 {'north america', 'india'}\n",
      "s3 {'asia', 'south korea', 'canada'}\n",
      "s {10, 90}\n",
      "s1 {0.45, 777, 500, 8888}\n"
     ]
    }
   ],
   "source": [
    "s = set()\n",
    "s.add(10)\n",
    "s.add(500)\n",
    "s.add(90)\n",
    "s.add(.45)\n",
    "print(\"s\",s)\n",
    "s1 = {.45,500,777,8888}\n",
    "print(\"s1 is subset of s:\",s1.issubset(s))\n",
    "print(\"s is supperset of s1:\",s.issuperset(s1))\n",
    "print(\"s1 is supperset of s:\",s1.issuperset(s))\n",
    "print(\"intersection of s and s1:\",s.intersection(s1))\n",
    "print(\"union of s and s1:\",s.union(s1))\n",
    "print(\"difference of s and s1:\",s.difference(s1))\n",
    "print(\"difference of s and s1:\",s1.difference(s))\n",
    "print(\"s is disjoint of s1:\",s.isdisjoint(s1))\n",
    "s2 = s1.copy()\n",
    "print(\"s2\",s2)\n",
    "print(s2.pop())\n",
    "s2.remove(8888)\n",
    "print(\"s2\",s2)\n",
    "print(\"symmetric_difference of s and s1\",s.symmetric_difference(s1))\n",
    "s2.discard(777)\n",
    "print(\"s2\",s2)\n",
    "s2.clear()\n",
    "print(\"s2\",s2)\n",
    "s.update(s1)\n",
    "print(s)\n",
    "s2 = {'asia','north america','canada','india'}\n",
    "s3 = {'canada','south korea','asia'}\n",
    "s4 = s2.copy()\n",
    "result=s2.intersection_update(s3)\n",
    "print(\"s2\",s2)\n",
    "print(\"s3\",s3)\n",
    "result=s4.difference_update(s3)\n",
    "print(\"s4\",s4)\n",
    "print(\"s3\",s3)\n",
    "result= s.symmetric_difference_update(s1)\n",
    "print(\"s\",s)\n",
    "print(\"s1\",s1)\n",
    "\n",
    "\n",
    "\n",
    "\n",
    "\n"
   ]
  },
  {
   "cell_type": "markdown",
   "metadata": {},
   "source": [
    "## Question 4 : Tuple and its methods"
   ]
  },
  {
   "cell_type": "code",
   "execution_count": 85,
   "metadata": {},
   "outputs": [
    {
     "name": "stdout",
     "output_type": "stream",
     "text": [
      "2\n",
      "3\n"
     ]
    }
   ],
   "source": [
    "t = (90,'lets upgrade',8.6,'/',90,'/')\n",
    "print(t.count(90))\n",
    "print(t.index('/'))"
   ]
  },
  {
   "cell_type": "markdown",
   "metadata": {},
   "source": [
    "## Question 5 : String and its method"
   ]
  },
  {
   "cell_type": "code",
   "execution_count": 149,
   "metadata": {},
   "outputs": [
    {
     "name": "stdout",
     "output_type": "stream",
     "text": [
      "Letsupgrade essential program 2020\n",
      "letsupgrade essential program 2020\n",
      "LETSUPGRADE ESSENTIAL PROGRAM 2020\n",
      "Letsupgrade Essential Program 2020\n",
      "is string alpha-numeric? False\n",
      "find 'up' in print(string1.expandtabs()): 4\n",
      "index of 'Essen' in Letsupgrade Essential Program 2020: 12\n",
      "Upgrade your skills with Letsupgrade Essential Program 2020\n",
      "letsupgrade essential program 2020\n",
      "********Letsupgrade Essential Program 2020********\n",
      "Communtiy       coding  events\n",
      "Communtiy coding  events\n",
      "count e in Letsupgrade Essential Program 2020:  3\n",
      "Is any character in Letsupgrade Essential Program 2020 is alphabet  True\n",
      "Is any character in Letsupgrade Essential Program 2020 is digit  True\n",
      "Is any character in Letsupgrade Essential Program 2020 is alphanumeric  True\n",
      "Is any character in Letsupgrade Essential Program 2020 is space  True\n",
      "Is string in titlecase: True\n",
      "Is string in uppercase False\n",
      "Is string in lowercase False\n",
      "isdecimal  True\n",
      "isdecimal  False\n",
      "True\n",
      "b'Letsupgrade Essential Program 2020'\n",
      "is s3 identifier: True\n",
      "Is Letsupgrade Essential Program 2020 is alphabet printable: True\n",
      "Is Communtiy\tcoding\tevents printable: False\n",
      "lETSUPGRADE eSSENTIAL pROGRAM 2020\n",
      "['Letsupgrade', 'Essential', 'Program', '2020']\n",
      "Letsupgrade-Essential-Program-2020\n",
      "['Letsupgrade', 'Essential', 'Program', '2020']\n",
      "Letsupgrade*Essential*Program*2020\n",
      "Letsupgrade Essential Program 2020$$$$$$$$$$$$$$$$\n",
      "$$$$$$$$Letsupgrade Essential Program 2020$$$$$$$$\n",
      "$$$$$$$$$$$$$$$$Letsupgrade Essential Program 2020\n",
      "string1 Communtiy\tcoding\tevents\n",
      "s2 Communtiy\tcoding\twebinar\n",
      "('Letsupgrade ', 'Essen', 'tial Program 2020')\n",
      " Coding is fun \n",
      "Coding is fun\n",
      "Coding is fun \n",
      " Coding is fun\n",
      "Is Letsupgrade Essential Program 2020 starting with Let True\n",
      "Is Letsupgrade Essential Program 2020 starting with 0 True\n"
     ]
    }
   ],
   "source": [
    "string = 'Letsupgrade Essential Program 2020'\n",
    "print(string.capitalize())\n",
    "print(string.lower())\n",
    "print(string.upper())\n",
    "print(string.title())\n",
    "print(\"is string alpha-numeric?\", string.isalnum())\n",
    "print(\"find 'up' in print(string1.expandtabs()):\",string.find('up'))\n",
    "print(\"index of 'Essen' in Letsupgrade Essential Program 2020:\",string.index('Essen'))\n",
    "print(\"Upgrade your skills with {}\".format(string))\n",
    "print(string.casefold())\n",
    "print(string.center(50,'*'))\n",
    "string1 = \"Communtiy\\tcoding\\tevents\"\n",
    "print(string1.expandtabs())\n",
    "print(string1.expandtabs(2))\n",
    "print(\"count e in Letsupgrade Essential Program 2020: \",string.count('e'))\n",
    "print(\"Is any character in Letsupgrade Essential Program 2020 is alphabet \",any([x.isalpha() for x in string]))\n",
    "print(\"Is any character in Letsupgrade Essential Program 2020 is digit \",any([x.isdigit() for x in string]))\n",
    "print(\"Is any character in Letsupgrade Essential Program 2020 is alphanumeric \",any([x.isalnum() for x in string]))\n",
    "print(\"Is any character in Letsupgrade Essential Program 2020 is space \",any([x.isspace() for x in string]))\n",
    "print(\"Is string in titlecase:\",string.istitle())\n",
    "print(\"Is string in uppercase\",string.isupper())\n",
    "print(\"Is string in lowercase\",string.islower())\n",
    "string2 = '98922'\n",
    "print(\"isdecimal \",string2.isdecimal())\n",
    "string2 = '98.922'\n",
    "print(\"isdecimal \",string2.isdecimal())\n",
    "print(string.isascii())\n",
    "print(string.encode())\n",
    "s3='if'\n",
    "print(\"is s3 identifier:\",s3.isidentifier())\n",
    "print(\"Is Letsupgrade Essential Program 2020 is alphabet printable:\",string.isprintable())\n",
    "print(\"Is Communtiy\\tcoding\\tevents printable:\",string1.isprintable())\n",
    "print(string.swapcase())\n",
    "l=string.split()\n",
    "print(l)\n",
    "s = '-'.join(l)\n",
    "print('-'.join(l))\n",
    "l1=s.split(\"-\")\n",
    "print(l1)\n",
    "print(\"*\".join(l1))\n",
    "print(string.ljust(50,'$'))\n",
    "print(string.center(50,'$'))\n",
    "print(string.rjust(50,'$'))\n",
    "print(\"string1\",string1)\n",
    "s2=string1.replace('events','webinar')\n",
    "print(\"s2\",s2)\n",
    "print(string.partition(\"Essen\"))\n",
    "s4 = ' Coding is fun '\n",
    "print(s4)\n",
    "print(s4.strip())\n",
    "print(s4.lstrip())\n",
    "print(s4.rstrip())\n",
    "print(\"Is Letsupgrade Essential Program 2020 starting with Let\",string.startswith('Let'))\n",
    "print(\"Is Letsupgrade Essential Program 2020 starting with 0\",string.endswith('0'))\n",
    "\n",
    "\n",
    "\n",
    "\n",
    "\n",
    "\n",
    "\n",
    "\n",
    "\n"
   ]
  },
  {
   "cell_type": "code",
   "execution_count": null,
   "metadata": {},
   "outputs": [],
   "source": []
  },
  {
   "cell_type": "code",
   "execution_count": null,
   "metadata": {},
   "outputs": [],
   "source": []
  },
  {
   "cell_type": "code",
   "execution_count": null,
   "metadata": {},
   "outputs": [],
   "source": []
  }
 ],
 "metadata": {
  "kernelspec": {
   "display_name": "Python 3",
   "language": "python",
   "name": "python3"
  },
  "language_info": {
   "codemirror_mode": {
    "name": "ipython",
    "version": 3
   },
   "file_extension": ".py",
   "mimetype": "text/x-python",
   "name": "python",
   "nbconvert_exporter": "python",
   "pygments_lexer": "ipython3",
   "version": "3.7.6"
  }
 },
 "nbformat": 4,
 "nbformat_minor": 4
}
