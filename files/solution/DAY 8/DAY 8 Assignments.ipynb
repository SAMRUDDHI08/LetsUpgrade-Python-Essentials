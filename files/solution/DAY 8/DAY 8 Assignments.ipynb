{
 "cells": [
  {
   "cell_type": "markdown",
   "metadata": {},
   "source": [
    "# Question 1\n",
    "Write a decorator function for your taking input for you any kind of function you want to build,For example - You make a fibonacci series function,in which your input range is been defined bythe decorator program input."
   ]
  },
  {
   "cell_type": "code",
   "execution_count": 15,
   "metadata": {},
   "outputs": [
    {
     "name": "stdout",
     "output_type": "stream",
     "text": [
      "Enter two number between which you want to display armstrong series:200 12000\n",
      "370 371 407 1634 8208 9474 "
     ]
    }
   ],
   "source": [
    "\"\"\"The program to demonstrate decorator for Armstrong number\"\"\"\n",
    "def getInput(calculate_args_function):\n",
    "    \"\"\"Taking input from the user\"\"\"\n",
    "    def inner():\n",
    "        a,b = map(int,input(\"Enter two number between which you want to display armstrong series:\").split())\n",
    "        calculate_args_function(m=a,n=b)\n",
    "    return inner\n",
    "        \n",
    "@getInput\n",
    "def armstrong(m,n):\n",
    "    \"\"\"Armstrong number logic\"\"\"\n",
    "    for num in range(m,n):\n",
    "        temp = num\n",
    "        sum = 0\n",
    "        while temp != 0:\n",
    "            r = temp % 10\n",
    "            sum += r**len(str(num))\n",
    "            temp //= 10\n",
    "        \n",
    "        if sum == num:\n",
    "            print(num,end=' ')\n",
    "armstrong()\n",
    "\n"
   ]
  },
  {
   "cell_type": "markdown",
   "metadata": {},
   "source": [
    "# Question 2\n",
    "For this challenge you need to develop a Python program to open a file in read only mode and trywriting something to it and handle the subsequent errors using Exception Handling.\n"
   ]
  },
  {
   "cell_type": "code",
   "execution_count": 16,
   "metadata": {},
   "outputs": [
    {
     "name": "stdout",
     "output_type": "stream",
     "text": [
      "File is  not writable\n"
     ]
    }
   ],
   "source": [
    "#when file is already existing\n",
    "import io\n",
    "\"\"\"Program to demonstrate opening a file in read only mode and trywriting something to it and handle the subsequent errors using Exception Handling. \"\"\"\n",
    "try:\n",
    "    f1 = open(\"abc.txt\",'r')\n",
    "    f1.write('This is the day 8 python assignment')\n",
    "    f1.close()\n",
    "    \n",
    "except io.UnsupportedOperation as e:\n",
    "    print(\"File is \",e)\n"
   ]
  },
  {
   "cell_type": "code",
   "execution_count": null,
   "metadata": {},
   "outputs": [],
   "source": []
  }
 ],
 "metadata": {
  "kernelspec": {
   "display_name": "Python 3",
   "language": "python",
   "name": "python3"
  },
  "language_info": {
   "codemirror_mode": {
    "name": "ipython",
    "version": 3
   },
   "file_extension": ".py",
   "mimetype": "text/x-python",
   "name": "python",
   "nbconvert_exporter": "python",
   "pygments_lexer": "ipython3",
   "version": "3.8.5"
  }
 },
 "nbformat": 4,
 "nbformat_minor": 4
}
