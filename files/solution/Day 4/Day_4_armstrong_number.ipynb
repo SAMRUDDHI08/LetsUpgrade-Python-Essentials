{
  "nbformat": 4,
  "nbformat_minor": 0,
  "metadata": {
    "colab": {
      "name": "Day   4 armstrong number.ipynb",
      "provenance": []
    },
    "kernelspec": {
      "name": "python3",
      "display_name": "Python 3"
    }
  },
  "cells": [
    {
      "cell_type": "code",
      "metadata": {
        "id": "bmlXEN5atQIE",
        "colab_type": "code",
        "colab": {
          "base_uri": "https://localhost:8080/",
          "height": 35
        },
        "outputId": "eff315e1-1492-4719-dc29-c3cd7e16aacc"
      },
      "source": [
        "number = 0\n",
        "for number in range(1042000,702648265):\n",
        "    temp = number\n",
        "    sum = 0\n",
        "    while temp > 0:\n",
        "        r = temp % 10\n",
        "        sum += r**len(str(number))\n",
        "        temp = temp // 10\n",
        "    if sum == number:\n",
        "        print(\"The first armstrong number is\",number)\n",
        "        break\n",
        "    "
      ],
      "execution_count": 4,
      "outputs": [
        {
          "output_type": "stream",
          "text": [
            "The first armstrong number is 1741725\n"
          ],
          "name": "stdout"
        }
      ]
    }
  ]
}