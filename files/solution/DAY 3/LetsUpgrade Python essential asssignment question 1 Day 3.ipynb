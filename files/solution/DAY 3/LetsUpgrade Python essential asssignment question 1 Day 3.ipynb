{
 "cells": [
  {
   "cell_type": "markdown",
   "metadata": {},
   "source": [
    "\n",
    "# Question 1\n",
    "You all are Pilots, you want to land a plane safely, so altitude required for landing a plane is1000ft, it it is less than tell pilot to land the plane, or it is more than that but less than 5000ft askthe pilot to “come down to 1000ft”, else if it more than 5000ft ask the pilot to “go around and trylater”"
   ]
  },
  {
   "cell_type": "code",
   "execution_count": 5,
   "metadata": {},
   "outputs": [
    {
     "name": "stdout",
     "output_type": "stream",
     "text": [
      "5000\n",
      "Go around and trylater\n"
     ]
    }
   ],
   "source": [
    "# using ternary operator\n",
    "altitude = int(input())\n",
    "result = 'Safe to Land' if 0 < altitude <= 1000 else \"Bring down to 1000ft or Come down to 100ft\" if 1000 < altitude < 5000 else \"Go around and trylater\" \n",
    "print(result)"
   ]
  },
  {
   "cell_type": "code",
   "execution_count": 8,
   "metadata": {},
   "outputs": [
    {
     "name": "stdout",
     "output_type": "stream",
     "text": [
      "600\n",
      "Safe to Land\n"
     ]
    }
   ],
   "source": [
    "# using if elif else\n",
    "altitude = int(input())\n",
    "if 0 <= altitude <= 1000:\n",
    "    print('Safe to Land')\n",
    "elif 1000 < altitude < 5000:\n",
    "    print(\"Bring down to 1000ft or Come down to 100ft\")\n",
    "else:\n",
    "    print(\"Go around and trylater\")"
   ]
  },
  {
   "cell_type": "code",
   "execution_count": null,
   "metadata": {},
   "outputs": [],
   "source": []
  }
 ],
 "metadata": {
  "kernelspec": {
   "display_name": "Python 3",
   "language": "python",
   "name": "python3"
  },
  "language_info": {
   "codemirror_mode": {
    "name": "ipython",
    "version": 3
   },
   "file_extension": ".py",
   "mimetype": "text/x-python",
   "name": "python",
   "nbconvert_exporter": "python",
   "pygments_lexer": "ipython3",
   "version": "3.7.6"
  }
 },
 "nbformat": 4,
 "nbformat_minor": 4
}
