{
 "cells": [
  {
   "cell_type": "markdown",
   "metadata": {},
   "source": [
    "# Question 1\n",
    "Write a python Function for finding is a given number prime or not and do Unit Testing on it using PyLint and Unittest Library."
   ]
  },
  {
   "cell_type": "markdown",
   "metadata": {},
   "source": [
    "# Using Pylint"
   ]
  },
  {
   "cell_type": "code",
   "execution_count": 53,
   "metadata": {},
   "outputs": [
    {
     "name": "stdout",
     "output_type": "stream",
     "text": [
      "Writing prime.py\n"
     ]
    }
   ],
   "source": [
    "%%writefile prime.py\n",
    "def isPrime(input_number):\n",
    "    if input_number <= 1:\n",
    "        return \"{} is not Prime\".format(input_number)\n",
    "    for num in range(2,input_number+1):\n",
    "        if input_number % num == 0:\n",
    "            return \"{} is not Prime\".format(input_number)\n",
    "    \n",
    "    return \"{} is Prime\".format(input_number)\n",
    "    \n",
    "isPrime(77)"
   ]
  },
  {
   "cell_type": "code",
   "execution_count": 54,
   "metadata": {
    "scrolled": true
   },
   "outputs": [
    {
     "name": "stdout",
     "output_type": "stream",
     "text": [
      "************* Module prime\n",
      "prime.py:7:0: C0303: Trailing whitespace (trailing-whitespace)\n",
      "prime.py:9:0: C0303: Trailing whitespace (trailing-whitespace)\n",
      "prime.py:1:0: C0114: Missing module docstring (missing-module-docstring)\n",
      "prime.py:1:0: C0103: Function name \"isPrime\" doesn't conform to snake_case naming style (invalid-name)\n",
      "prime.py:1:0: C0116: Missing function or method docstring (missing-function-docstring)\n",
      "\n",
      "-----------------------------------\n",
      "\n",
      "Your code has been rated at 3.75/10\n",
      "\n",
      "\n",
      "\n"
     ]
    }
   ],
   "source": [
    "! pylint prime.py"
   ]
  },
  {
   "cell_type": "code",
   "execution_count": 76,
   "metadata": {
    "scrolled": true
   },
   "outputs": [
    {
     "name": "stdout",
     "output_type": "stream",
     "text": [
      "Overwriting prime.py\n"
     ]
    }
   ],
   "source": [
    "%%writefile prime.py\n",
    "\"\"\" The program contains a fiunction to check whether the number is prime\"\"\"\n",
    "def is_prime(input_number):\n",
    "    \"\"\"\n",
    "        This function takes a number as a input and check whether it is prime or not\n",
    "        for eg: is_prime(28) o/p: 28 is not Prime\n",
    "                is_prime(79) o/p: 79 is Prime\n",
    "    \"\"\"\n",
    "    if input_number <= 1:\n",
    "        return \"{} is not Prime\".format(input_number)\n",
    "    for num in range(2,input_number+1):\n",
    "        if input_number % num == 0:\n",
    "            return \"{} is not Prime\".format(input_number)\n",
    "    return \"{} is Prime\".format(input_number)\n",
    "\n",
    "is_prime(77)"
   ]
  },
  {
   "cell_type": "code",
   "execution_count": 77,
   "metadata": {},
   "outputs": [
    {
     "name": "stdout",
     "output_type": "stream",
     "text": [
      "\n",
      "-------------------------------------------------------------------\n",
      "\n",
      "Your code has been rated at 10.00/10 (previous run: 8.75/10, +1.25)\n",
      "\n",
      "\n",
      "\n"
     ]
    }
   ],
   "source": [
    "! pylint prime.py"
   ]
  },
  {
   "cell_type": "markdown",
   "metadata": {},
   "source": [
    "# Using Unittest Library."
   ]
  },
  {
   "cell_type": "code",
   "execution_count": 114,
   "metadata": {},
   "outputs": [
    {
     "name": "stdout",
     "output_type": "stream",
     "text": [
      "Overwriting unittest_prime.py\n"
     ]
    }
   ],
   "source": [
    "%%writefile unittest_prime.py\n",
    "\"\"\"\n",
    "    This module demonstrate unit testing of prime.py\n",
    "\"\"\"\n",
    "import unittest\n",
    "import prime\n",
    "\n",
    "class TestPrime(unittest.TestCase):\n",
    "    \"\"\"\n",
    "        These are the testcases for verifying functionality of prime.py\n",
    "    \"\"\"\n",
    "    def testcase_1(self):\n",
    "        \"\"\"\n",
    "            Testcase 1\n",
    "        \"\"\"\n",
    "        input_number = 56\n",
    "        result = prime.is_prime(input_number)\n",
    "        self.assertEqual(result, \"56 is not Prime\")\n",
    "    def  testcase_2(self):\n",
    "        \"\"\"\n",
    "            Testcase 2\n",
    "        \"\"\"\n",
    "        input_number = 97\n",
    "        result = prime.is_prime(input_number)\n",
    "        self.assertEqual(result, '97 is not Prime')\n",
    "    def  testcase_3(self):\n",
    "        \"\"\"\n",
    "            Testcase 3\n",
    "        \"\"\"\n",
    "        input_number = 123\n",
    "        result = prime.is_prime(input_number)\n",
    "        self.assertEqual(result, '123 is Prime')\n",
    "\n",
    "\n",
    "if __name__ == '__main__':\n",
    "    unittest.main()\n"
   ]
  },
  {
   "cell_type": "code",
   "execution_count": 115,
   "metadata": {
    "scrolled": true
   },
   "outputs": [
    {
     "name": "stderr",
     "output_type": "stream",
     "text": [
      "..F\n",
      "======================================================================\n",
      "FAIL: testcase_3 (__main__.TestPrime)\n",
      "Testcase 3\n",
      "----------------------------------------------------------------------\n",
      "Traceback (most recent call last):\n",
      "  File \"unittest_prime.py\", line 31, in testcase_3\n",
      "    self.assertEqual(result, '123 is Prime')\n",
      "AssertionError: '123 is not Prime' != '123 is Prime'\n",
      "- 123 is not Prime\n",
      "?       ----\n",
      "+ 123 is Prime\n",
      "\n",
      "\n",
      "----------------------------------------------------------------------\n",
      "Ran 3 tests in 0.002s\n",
      "\n",
      "FAILED (failures=1)\n"
     ]
    }
   ],
   "source": [
    "! python unittest_prime.py"
   ]
  },
  {
   "cell_type": "code",
   "execution_count": 116,
   "metadata": {},
   "outputs": [
    {
     "name": "stdout",
     "output_type": "stream",
     "text": [
      "\n",
      "-------------------------------------------------------------------\n",
      "\n",
      "Your code has been rated at 10.00/10 (previous run: 8.24/10, +1.76)\n",
      "\n",
      "\n",
      "\n"
     ]
    }
   ],
   "source": [
    "! pylint \"unittest_prime.py\""
   ]
  },
  {
   "cell_type": "markdown",
   "metadata": {},
   "source": [
    "# Question 2\n",
    "Make a small generator program for returning armstrong numbers in between 1-1000 in a generator object.\n"
   ]
  },
  {
   "cell_type": "code",
   "execution_count": 49,
   "metadata": {
    "scrolled": true
   },
   "outputs": [
    {
     "name": "stdout",
     "output_type": "stream",
     "text": [
      "The Armstrong number between 1-1000:\n",
      "<generator object armstrong_gen at 0x0000025186F6BEB0>\n"
     ]
    }
   ],
   "source": [
    "\"\"\"a small generator program for returning armstrong numbers in between 1-1000.\"\"\"\n",
    "def armstrong_gen(lst):\n",
    "    \"\"\"Armstrong number logic\"\"\"\n",
    "    for num in lst:\n",
    "        temp =  num\n",
    "        addition = 0\n",
    "        while temp != 0:\n",
    "            digit = temp % 10\n",
    "            addition += digit**len(str(num))\n",
    "            temp //= 10\n",
    "        if addition == num:\n",
    "            yield num\n",
    "print(\"The Armstrong number between 1-1000:\")\n",
    "lst = list(range(1,1000))\n",
    "print(armstrong_gen(lst))"
   ]
  },
  {
   "cell_type": "code",
   "execution_count": 51,
   "metadata": {},
   "outputs": [
    {
     "name": "stdout",
     "output_type": "stream",
     "text": [
      "The Armstrong number between 1-1000:\n",
      "[1, 2, 3, 4, 5, 6, 7, 8, 9, 153, 370, 371, 407]\n"
     ]
    }
   ],
   "source": [
    "print(\"The Armstrong number between 1-1000:\")\n",
    "print(list(armstrong_gen(lst)))"
   ]
  }
 ],
 "metadata": {
  "kernelspec": {
   "display_name": "Python 3",
   "language": "python",
   "name": "python3"
  },
  "language_info": {
   "codemirror_mode": {
    "name": "ipython",
    "version": 3
   },
   "file_extension": ".py",
   "mimetype": "text/x-python",
   "name": "python",
   "nbconvert_exporter": "python",
   "pygments_lexer": "ipython3",
   "version": "3.8.5"
  }
 },
 "nbformat": 4,
 "nbformat_minor": 4
}
